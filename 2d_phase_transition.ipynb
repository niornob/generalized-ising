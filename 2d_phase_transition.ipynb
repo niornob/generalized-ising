{
 "cells": [
  {
   "cell_type": "code",
   "execution_count": 1,
   "metadata": {},
   "outputs": [],
   "source": [
    "import numpy as np\n",
    "import math\n",
    "\n",
    "import matplotlib.pyplot as plt\n",
    "import seaborn as sns\n",
    "from IPython.display import display, clear_output, DisplayHandle\n",
    "\n",
    "import ising\n",
    "import multiprocess"
   ]
  },
  {
   "cell_type": "code",
   "execution_count": 2,
   "metadata": {},
   "outputs": [],
   "source": [
    "DIM = [30, 30]\n",
    "n_processors = 6"
   ]
  },
  {
   "cell_type": "markdown",
   "metadata": {},
   "source": [
    "# Phase Transition"
   ]
  },
  {
   "cell_type": "code",
   "execution_count": 3,
   "metadata": {},
   "outputs": [
    {
     "name": "stdout",
     "output_type": "stream",
     "text": [
      "Lattice dimension: 2\n",
      "Lattice size: [30 30]\n",
      "Spins are placed on: 0-cells\n",
      "Interactions are placed on: 1-cells\n",
      "No. of 0-cells in lattice: 900\n",
      "No. of 1-cells in lattice: 1800\n"
     ]
    }
   ],
   "source": [
    "x = ising.ising(DIM)\n",
    "x.info()\n",
    "Op = [x.cellP[0], (tuple(x.DIM//2),0)]"
   ]
  },
  {
   "cell_type": "code",
   "execution_count": 4,
   "metadata": {},
   "outputs": [],
   "source": [
    "def interval(x, y, n):\n",
    "    d = (y-x)/n\n",
    "    I = []\n",
    "    for i in range(n):\n",
    "        I.append(x + i*d)\n",
    "    return I"
   ]
  },
  {
   "cell_type": "code",
   "execution_count": 5,
   "metadata": {},
   "outputs": [
    {
     "name": "stdout",
     "output_type": "stream",
     "text": []
    },
    {
     "data": {
      "text/plain": [
       "'MC turn: 4451/4500'"
      ]
     },
     "metadata": {},
     "output_type": "display_data"
    },
    {
     "data": {
      "text/plain": [
       "'MC turn: 4451/4500'"
      ]
     },
     "metadata": {},
     "output_type": "display_data"
    },
    {
     "data": {
      "text/plain": [
       "'MC turn: 4451/4500'"
      ]
     },
     "metadata": {},
     "output_type": "display_data"
    },
    {
     "data": {
      "text/plain": [
       "'MC turn: 4451/4500'"
      ]
     },
     "metadata": {},
     "output_type": "display_data"
    },
    {
     "data": {
      "text/plain": [
       "'MC turn: 4451/4500'"
      ]
     },
     "metadata": {},
     "output_type": "display_data"
    },
    {
     "data": {
      "text/plain": [
       "'MC turn: 4451/4500'"
      ]
     },
     "metadata": {},
     "output_type": "display_data"
    },
    {
     "name": "stdout",
     "output_type": "stream",
     "text": [
      "chunk no. 3/3\n"
     ]
    }
   ],
   "source": [
    "n_chunks = 3\n",
    "N = n_processors * n_chunks\n",
    "\n",
    "X = np.concatenate((interval(.1, .37, N//3), \n",
    "                    interval(.37, .5, len(range(N//3, (2*N)//3))),\n",
    "                    interval(.5, .8, len(range((2*N)//3, N)))\n",
    "                   ))\n",
    "X_chunks = [X[i*n_processors:(i+1)*n_processors] for i in range(n_chunks)]\n",
    "\n",
    "pool = multiprocess.Pool(processes=n_processors)\n",
    "\n",
    "def ising_J(j):\n",
    "    x = ising.ising(DIM)\n",
    "    x.coupling = ising.const_field(x.cellP1, value=j)\n",
    "    x.equilibrate(num_iterate=5*len(x.cellP), screen=ising.rand_screen())\n",
    "    \n",
    "    return x\n",
    "\n",
    "models = []\n",
    "\n",
    "\n",
    "for i, chunk in enumerate(X_chunks):\n",
    "    clear_output()\n",
    "    print('chunk no. {}/{}'.format(i+1, n_chunks))\n",
    "    models += pool.map(ising_J, chunk)"
   ]
  },
  {
   "cell_type": "code",
   "execution_count": 6,
   "metadata": {},
   "outputs": [
    {
     "name": "stdout",
     "output_type": "stream",
     "text": [
      "model no. 18/18\n",
      "\r"
     ]
    },
    {
     "data": {
      "text/plain": [
       "'E sample (J = 0.750): 500/500. running E: 0.996'"
      ]
     },
     "metadata": {},
     "output_type": "display_data"
    },
    {
     "name": "stdout",
     "output_type": "stream",
     "text": [
      "\r"
     ]
    },
    {
     "data": {
      "text/plain": [
       "'E sample (J = 0.750): 500/500. running E: 0.996'"
      ]
     },
     "metadata": {},
     "output_type": "display_data"
    },
    {
     "name": "stdout",
     "output_type": "stream",
     "text": [
      "\r"
     ]
    },
    {
     "data": {
      "text/plain": [
       "'E sample (J = 0.750): 500/500. running E: 0.996'"
      ]
     },
     "metadata": {},
     "output_type": "display_data"
    },
    {
     "name": "stdout",
     "output_type": "stream",
     "text": [
      "\r"
     ]
    },
    {
     "data": {
      "text/plain": [
       "'E sample (J = 0.750): 500/500. running E: 0.996'"
      ]
     },
     "metadata": {},
     "output_type": "display_data"
    },
    {
     "name": "stdout",
     "output_type": "stream",
     "text": [
      "\r"
     ]
    },
    {
     "data": {
      "text/plain": [
       "'E sample (J = 0.750): 500/500. running E: 0.996'"
      ]
     },
     "metadata": {},
     "output_type": "display_data"
    },
    {
     "name": "stdout",
     "output_type": "stream",
     "text": [
      "\r"
     ]
    },
    {
     "data": {
      "text/plain": [
       "'E sample (J = 0.750): 500/500. running E: 0.996'"
      ]
     },
     "metadata": {},
     "output_type": "display_data"
    }
   ],
   "source": [
    "Y = []\n",
    "for i, model in enumerate(models):\n",
    "    clear_output()\n",
    "    print('model no. {}/{}'.format(i+1, len(models)))\n",
    "    Y.append(model.expectation(Op, sample_size=500, n_processors=n_processors, quiet=False))"
   ]
  },
  {
   "cell_type": "code",
   "execution_count": 7,
   "metadata": {},
   "outputs": [
    {
     "data": {
      "image/png": "[encoded data removed]",
      "text/plain": [
       "<Figure size 640x480 with 1 Axes>"
      ]
     },
     "metadata": {},
     "output_type": "display_data"
    }
   ],
   "source": [
    "J_crit = math.log(1+math.sqrt(2))/2\n",
    "ax = sns.lineplot(x=[J_crit, J_crit], y=[-.1, .8], estimator=None, linewidth=1.5, color='red', linestyle='dashed')\n",
    "sns.lineplot(x=X, y=Y, ax=ax, marker='o')\n",
    "ax.set(xlabel='Coupling, $J/(k_BT)$', ylabel='Long range correlation, $\\\\left\\\\langle S_{0,0} S_{d/2, d/2} \\\\right\\\\rangle$')\n",
    "ax.set_title('2d Ising Model on a lattice of size ' + str(DIM))\n",
    "plt.legend(labels=['Analytic critical coupling', 'Simulation'])\n",
    "plt.show()"
   ]
  }
 ],
 "metadata": {
  "kernelspec": {
   "display_name": "Python 3 (ipykernel)",
   "language": "python",
   "name": "python3"
  },
  "language_info": {
   "codemirror_mode": {
    "name": "ipython",
    "version": 3
   },
   "file_extension": ".py",
   "mimetype": "text/x-python",
   "name": "python",
   "nbconvert_exporter": "python",
   "pygments_lexer": "ipython3",
   "version": "3.11.2"
  }
 },
 "nbformat": 4,
 "nbformat_minor": 2
}
